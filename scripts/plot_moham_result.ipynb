{
 "cells": [
  {
   "cell_type": "code",
   "execution_count": null,
   "metadata": {},
   "outputs": [],
   "source": [
    "%matplotlib inline\n",
    "%config InlineBackend.figure_formats = ['svg']\n",
    "\n",
    "import matplotlib.pyplot as plt\n",
    "import seaborn as sns\n",
    "import pandas as pd\n",
    "\n",
    "LATENCY_NAME = 'Latency [cycles]'\n",
    "ENERGY_NAME = 'Energy [mJ]'\n",
    "AREA_NAME = 'Area [mm²]'\n",
    "\n",
    "def read_moham_populations_csv(file):\n",
    "    dn = pd.read_csv(file, header = None, names = ['Generation', 'Rank', 'Crowding Distance', ENERGY_NAME, LATENCY_NAME, AREA_NAME])\n",
    "    dn[ENERGY_NAME] /= 1e9\n",
    "    dn[AREA_NAME] /= 1e6\n",
    "    dn['EDP'] = dn[ENERGY_NAME] * dn[LATENCY_NAME]\n",
    "    return dn\n",
    "\n",
    "sns.set_theme()"
   ]
  },
  {
   "cell_type": "code",
   "execution_count": null,
   "metadata": {},
   "outputs": [],
   "source": [
    "# read populations csv\n",
    "df = read_moham_populations_csv(\"../output/test_new/moham/moham.populations.csv\")\n",
    "# filter last generation\n",
    "df = df[df[\"Generation\"] == df[\"Generation\"].max()]\n",
    "# filter individuals in rank 0 (pareto efficient)\n",
    "df = df[df[\"Rank\"] == 0]\n",
    "\n",
    "# plot\n",
    "g = sns.scatterplot(data=df, x=ENERGY_NAME, y=LATENCY_NAME, hue=AREA_NAME, size=AREA_NAME, palette='viridis')\n",
    "_ = g.set_title(\"(Energy, Latency, Area) Pareto Front of MOHaM Last Generation\")"
   ]
  }
 ],
 "metadata": {
  "kernelspec": {
   "display_name": "Python 3 (ipykernel)",
   "language": "python",
   "name": "python3"
  },
  "language_info": {
   "codemirror_mode": {
    "name": "ipython",
    "version": 3
   },
   "file_extension": ".py",
   "mimetype": "text/x-python",
   "name": "python",
   "nbconvert_exporter": "python",
   "pygments_lexer": "ipython3",
   "version": "3.8.10"
  }
 },
 "nbformat": 4,
 "nbformat_minor": 2
}
