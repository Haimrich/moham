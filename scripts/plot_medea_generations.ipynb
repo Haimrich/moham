{
 "cells": [
  {
   "cell_type": "code",
   "execution_count": null,
   "metadata": {},
   "outputs": [],
   "source": [
    "# show MEDEA solution improvement over generations for a single layer\n",
    "\n",
    "%matplotlib inline\n",
    "%config InlineBackend.figure_formats = ['svg']\n",
    "\n",
    "import csv\n",
    "import matplotlib.pyplot as plt\n",
    "from matplotlib import colors\n",
    "\n",
    "import numpy as np\n",
    "import seaborn as sns\n",
    "import pandas as pd\n",
    "import yaml\n",
    "\n",
    "popfile = \"../results/medea/000_C.3_M.1_R.224_S.224_N.1_P.112_Q.112_Wstride.2_Hstride.2_Wdilation.1_Hdilation.1/simba/medea.populations.csv\"\n",
    "\n",
    "\n",
    "data = pd.read_csv(popfile, header = None, names = ['Generation', 'Rank', 'Crowding Distance', 'Energy [mJ]', 'Cycles', 'Minimal Arch. Area [mm²]'])\n",
    "data['Energy [mJ]'] /= 1000000000\n",
    "data['Minimal Arch. Area [mm²]'] /= 1000000\n",
    "pdata = data[data[\"Generation\"] > 30]\n",
    "pdata = data[data[\"Rank\"] == 0]\n",
    "\n",
    "sns.set_theme()\n",
    "g = sns.relplot(data=pdata,\n",
    "    x='Energy [mJ]', y=\"Cycles\",\n",
    "    size='Minimal Arch. Area [mm²]', hue=\"Generation\",\n",
    "    facet_kws={'sharey': False, 'sharex': False},\n",
    "    height=3.5,\n",
    "    aspect=2\n",
    ")\n",
    "g.set_titles(col_template=\"{col_name}\", row_template=\"{row_name}\")\n",
    "for ax in g.axes.flatten():\n",
    "    ax.ticklabel_format(style='sci', scilimits=(0,0), axis='y')\n",
    "    ax.set_yscale('log')\n",
    "    ax.set_xscale('log')"
   ]
  }
 ],
 "metadata": {
  "interpreter": {
   "hash": "916dbcbb3f70747c44a77c7bcd40155683ae19c65e1c03b4aa3499c5328201f1"
  },
  "kernelspec": {
   "display_name": "Python 3 (ipykernel)",
   "language": "python",
   "name": "python3"
  },
  "orig_nbformat": 4
 },
 "nbformat": 4,
 "nbformat_minor": 2
}
